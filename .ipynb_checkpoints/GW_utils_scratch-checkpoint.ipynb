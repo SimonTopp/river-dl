{
 "cells": [
  {
   "cell_type": "code",
   "execution_count": 1,
   "metadata": {},
   "outputs": [],
   "source": [
    "import pandas as pd\n",
    "import numpy as np\n",
    "import xarray as xr\n",
    "import os\n",
    "from sklearn.linear_model import LinearRegression\n",
    "from datetime import datetime\n",
    "import math\n",
    "from itertools import compress"
   ]
  },
  {
   "cell_type": "code",
   "execution_count": 2,
   "metadata": {},
   "outputs": [],
   "source": [
    "from river_dl.preproc_utils import separate_trn_tst, read_multiple_obs, check_if_finite"
   ]
  },
  {
   "cell_type": "code",
   "execution_count": 3,
   "metadata": {},
   "outputs": [],
   "source": [
    "os.chdir('/home/jovyan/river-dl')"
   ]
  },
  {
   "cell_type": "code",
   "execution_count": 4,
   "metadata": {},
   "outputs": [],
   "source": [
    "out_file = os.path.join(\"DRB_output\",\"prepped.npz\")\n",
    "obs_temper_file = os.path.join(\"DRB_data\",\"obs_temp_subset\")\n",
    "pretrain_file = os.path.join(\"DRB_data\",\"uncal_sntemp_input_output_subset\")\n",
    "test_start_date = '2010-09-30'\n",
    "n_test_yr = 6"
   ]
  },
  {
   "cell_type": "code",
   "execution_count": 5,
   "metadata": {},
   "outputs": [],
   "source": [
    "ds_pre = xr.open_zarr(pretrain_file)"
   ]
  },
  {
   "cell_type": "code",
   "execution_count": 6,
   "metadata": {},
   "outputs": [],
   "source": [
    "obs = [ds_pre.sortby([\"seg_id_nat\",\"date\"])]\n",
    "obs.append(xr.open_zarr(obs_temper_file))\n",
    "obs=xr.merge(obs,join=\"left\")\n",
    "obs=obs[[\"seg_tave_air\",\"temp_c\"]]\n",
    "obs = obs.rename({\"temp_c\": \"seg_tave_water\"})"
   ]
  },
  {
   "cell_type": "code",
   "execution_count": 7,
   "metadata": {},
   "outputs": [],
   "source": [
    "#split into testing and training\n",
    "x_trn, x_tst = separate_trn_tst(obs, test_start_date, n_test_yr)"
   ]
  },
  {
   "cell_type": "code",
   "execution_count": 18,
   "metadata": {},
   "outputs": [],
   "source": [
    "def annTempStats(thisData):\n",
    "    #convert the date to decimal dates\n",
    "    date_decimal = [float(x)/365 for x in ((thisData['date']-np.datetime64('1980-10-01'))/86400000000000.0)]\n",
    "    \n",
    "    air_amp=[]\n",
    "    air_phi=[]\n",
    "    water_amp_obs = []\n",
    "    water_phi_obs = []\n",
    "    nTemps = []\n",
    "    \n",
    "    #get the phase and amplitude for air and water temps for each segment\n",
    "    for i in range(len(thisData['seg_id_nat'])):\n",
    "        thisSeg = thisData['seg_id_nat'][i]\n",
    "        tmean_air = thisData['seg_tave_air'][:,i]\n",
    "        tmean_water = thisData['seg_tave_water'][i,:]\n",
    "        x = [[math.sin(2*math.pi*j),math.cos(2*math.pi*j)] for j in date_decimal]\n",
    "        model = LinearRegression().fit(x,tmean_air)\n",
    "        amp = math.sqrt(model.coef_[0]**2+model.coef_[1]**2)\n",
    "        phi = math.asin(model.coef_[1]/amp)\n",
    "        air_amp.append(amp)\n",
    "        air_phi.append(phi)\n",
    "        if np.sum(np.isfinite(tmean_water).values)>365: #this requires at least 1 year of data, need to add other data requirements here\n",
    "            model = LinearRegression().fit(list(compress(x, np.isfinite(tmean_water).values)),list(compress(tmean_water, np.isfinite(tmean_water).values)))\n",
    "            amp = math.sqrt(model.coef_[0]**2+model.coef_[1]**2)\n",
    "            phi = math.asin(model.coef_[1]/amp)\n",
    "        else:\n",
    "            amp=np.nan\n",
    "            phi=np.nan\n",
    "        water_amp_obs.append(amp)\n",
    "        water_phi_obs.append(phi)\n",
    "        nTemps.append(np.sum(np.isfinite(tmean_water).values))\n",
    "    Ar_obs = [water_amp_obs[x]/air_amp[x] for x in range(len(water_amp_obs))]\n",
    "    delPhi_obs = [(water_phi_obs[x]-air_phi[x])*365/(2*math.pi) for x in range(len(water_amp_obs))]\n",
    "    \n",
    "    tempDF = pd.DataFrame({'seg_id_nat':thisData['seg_id_nat'], 'air_amp':air_amp,'air_phi':air_phi,'water_amp_obs':water_amp_obs,'water_phi_obs':water_phi_obs,'Ar_obs':Ar_obs,'delPhi_obs':delPhi_obs})\n",
    "    \n",
    "    return tempDF\n",
    "    "
   ]
  },
  {
   "cell_type": "code",
   "execution_count": 19,
   "metadata": {},
   "outputs": [
    {
     "name": "stdout",
     "output_type": "stream",
     "text": [
      "0\n",
      "1\n",
      "2\n",
      "3\n",
      "4\n",
      "5\n",
      "6\n",
      "7\n",
      "8\n",
      "9\n",
      "10\n",
      "11\n",
      "12\n",
      "13\n",
      "14\n",
      "15\n",
      "16\n",
      "17\n",
      "18\n",
      "19\n",
      "20\n",
      "21\n",
      "22\n",
      "23\n",
      "24\n",
      "25\n",
      "26\n",
      "27\n",
      "28\n",
      "29\n",
      "30\n",
      "31\n",
      "32\n",
      "33\n",
      "34\n",
      "35\n",
      "36\n",
      "37\n",
      "38\n",
      "39\n",
      "40\n",
      "41\n",
      "0\n",
      "1\n",
      "2\n",
      "3\n",
      "4\n",
      "5\n",
      "6\n",
      "7\n",
      "8\n",
      "9\n",
      "10\n",
      "11\n",
      "12\n",
      "13\n",
      "14\n",
      "15\n",
      "16\n",
      "17\n",
      "18\n",
      "19\n",
      "20\n",
      "21\n",
      "22\n",
      "23\n",
      "24\n",
      "25\n",
      "26\n",
      "27\n",
      "28\n",
      "29\n",
      "30\n",
      "31\n",
      "32\n",
      "33\n",
      "34\n",
      "35\n",
      "36\n",
      "37\n",
      "38\n",
      "39\n",
      "40\n",
      "41\n"
     ]
    }
   ],
   "source": [
    "GW_trn = annTempStats(x_trn)\n",
    "GW_tst = annTempStats(x_tst)"
   ]
  },
  {
   "cell_type": "code",
   "execution_count": 84,
   "metadata": {},
   "outputs": [],
   "source": [
    "preppedData = np.load(out_file)"
   ]
  },
  {
   "cell_type": "code",
   "execution_count": 81,
   "metadata": {},
   "outputs": [],
   "source": [
    "data = {k:v for  k, v in preppedData.items() if not k.startswith(\"GW\")}"
   ]
  },
  {
   "cell_type": "code",
   "execution_count": 82,
   "metadata": {},
   "outputs": [],
   "source": [
    "data['GW_tst']=GW_tst\n",
    "data['GW_trn']=GW_trn\n",
    "data['GW_cols']=GW_trn.columns.values.astype('str')"
   ]
  },
  {
   "cell_type": "code",
   "execution_count": 83,
   "metadata": {},
   "outputs": [],
   "source": [
    "np.savez_compressed(out_file, **data)"
   ]
  },
  {
   "cell_type": "code",
   "execution_count": null,
   "metadata": {},
   "outputs": [],
   "source": []
  }
 ],
 "metadata": {
  "kernelspec": {
   "display_name": "Python [conda env:pangeo] *",
   "language": "python",
   "name": "conda-env-pangeo-py"
  },
  "language_info": {
   "codemirror_mode": {
    "name": "ipython",
    "version": 3
   },
   "file_extension": ".py",
   "mimetype": "text/x-python",
   "name": "python",
   "nbconvert_exporter": "python",
   "pygments_lexer": "ipython3",
   "version": "3.6.12"
  }
 },
 "nbformat": 4,
 "nbformat_minor": 4
}
